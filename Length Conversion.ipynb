{
 "cells": [
  {
   "cell_type": "code",
   "execution_count": null,
   "id": "1a974a0b-949f-4b7e-a8d1-23f618f25891",
   "metadata": {},
   "outputs": [],
   "source": []
  }
 ],
 "metadata": {
  "kernelspec": {
   "display_name": "",
   "name": ""
  },
  "language_info": {
   "name": ""
  }
 },
 "nbformat": 4,
 "nbformat_minor": 5
}
