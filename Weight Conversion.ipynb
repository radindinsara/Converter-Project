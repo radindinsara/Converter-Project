{
 "cells": [
  {
   "cell_type": "code",
   "execution_count": null,
   "id": "1a974a0b-949f-4b7e-a8d1-23f618f25891",
   "metadata": {},
   "outputs": [],
   "source": [
    "def pounds_to_kg(pounds):\n",
    "    return pounds * 0.453592\n",
    "\n",
    "def kg_to_pounds(kg):\n",
    "    return kg / 0.453592"
   ]
  }
 ],
 "metadata": {
  "kernelspec": {
   "display_name": "Python 3 (ipykernel)",
   "language": "python",
   "name": "python3"
  },
  "language_info": {
   "codemirror_mode": {
    "name": "ipython",
    "version": 3
   },
   "file_extension": ".py",
   "mimetype": "text/x-python",
   "name": "python",
   "nbconvert_exporter": "python",
   "pygments_lexer": "ipython3",
   "version": "3.12.7"
  }
 },
 "nbformat": 4,
 "nbformat_minor": 5
}
