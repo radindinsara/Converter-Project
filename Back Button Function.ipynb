{
 "cells": [
  {
   "cell_type": "code",
   "execution_count": null,
   "id": "1a974a0b-949f-4b7e-a8d1-23f618f25891",
   "metadata": {},
   "outputs": [],
   "source": [
    "def show_result():\n",
    "    try:\n",
    "        value = float(value_entry.get())\n",
    "        conversion = conversion_dropdown.get()\n",
    "\n",
    "        if task_dropdown.get() == \"Temperature\":\n",
    "            if conversion == \"Fahrenheit to Celsius\":\n",
    "                result = fahrenheit_to_celsius(value)\n",
    "                result_text = f\"{value}°F = {result:.2f}°C\"\n",
    "            else:\n",
    "                result = celsius_to_fahrenheit(value)\n",
    "                result_text = f\"{value}°C = {result:.2f}°F\"\n",
    "\n",
    "        elif task_dropdown.get() == \"Length\":\n",
    "            if conversion == \"Miles to Kilometers\":\n",
    "                result = miles_to_km(value)\n",
    "                result_text = f\"{value} miles = {result:.2f} km\"\n",
    "            else:\n",
    "                result = km_to_miles(value)\n",
    "                result_text = f\"{value} km = {result:.2f} miles\"\n",
    "\n",
    "        elif task_dropdown.get() == \"Weight\":\n",
    "            if conversion == \"Pounds to Kilograms\":\n",
    "                result = pounds_to_kg(value)\n",
    "                result_text = f\"{value} pounds = {result:.2f} kg\"\n",
    "            else:\n",
    "                result = kg_to_pounds(value)\n",
    "                result_text = f\"{value} kg = {result:.2f} pounds\"\n",
    "\n",
    "        \n",
    "        result_window.config(state=\"normal\")  \n",
    "        result_window.delete(1.0, tk.END)  \n",
    "        result_window.insert(tk.END, result_text)  \n",
    "        result_window.config(state=\"disabled\")  \n",
    "\n",
    "        # Change background color based on selected task\n",
    "        if task_dropdown.get() == \"Temperature\":\n",
    "            result_window.config(bg=\"#FFDDC1\")  # Light orange\n",
    "        elif task_dropdown.get() == \"Length\":\n",
    "            result_window.config(bg=\"#FFFFFF\")  # White\n",
    "        elif task_dropdown.get() == \"Weight\":\n",
    "            result_window.config(bg=\"#ADD8E6\")  # Light blue\n",
    "\n",
    "    except ValueError:\n",
    "        messagebox.showerror(\"Input Error\", \"Please enter a valid number.\")"
   ]
  }
 ],
 "metadata": {
  "kernelspec": {
   "display_name": "Python 3 (ipykernel)",
   "language": "python",
   "name": "python3"
  },
  "language_info": {
   "codemirror_mode": {
    "name": "ipython",
    "version": 3
   },
   "file_extension": ".py",
   "mimetype": "text/x-python",
   "name": "python",
   "nbconvert_exporter": "python",
   "pygments_lexer": "ipython3",
   "version": "3.12.7"
  }
 },
 "nbformat": 4,
 "nbformat_minor": 5
}
